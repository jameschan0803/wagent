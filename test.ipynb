{
    "nbformat_minor": 1, 
    "cells": [
        {
            "source": "\nimport sys\nimport types\nimport pandas as pd\nfrom ibm_botocore.client import Config\nimport ibm_boto3\n\ndef __iter__(self): return 0\n\n# @hidden_cell\n# The following code accesses a file in your IBM Cloud Object Storage. It includes your credentials.\n# You might want to remove those credentials before you share your notebook.\nclient_b6b26877d6aa4846b2bbd29a22532f93 = ibm_boto3.client(service_name='s3',\n    ibm_api_key_id='RW99EZfQXArvYzjRpl3Q1MPY7fVuMltDBvb8JZq8ceG5',\n    ibm_auth_endpoint=\"https://iam.bluemix.net/oidc/token\",\n    config=Config(signature_version='oauth'),\n    endpoint_url='https://s3.ap-geo.objectstorage.service.networklayer.com')\n\nbody = client_b6b26877d6aa4846b2bbd29a22532f93.get_object(Bucket='ssswayne-donotdelete-pr-kb6fnctcqqnysh',Key='hc_shaped11.csv')['Body']\n# add missing __iter__ method, so pandas accepts body as file-like object\nif not hasattr(body, \"__iter__\"): body.__iter__ = types.MethodType( __iter__, body )\n\ndf_data_1 = pd.read_csv(body)\ndf_data_1.head()\n\n", 
            "cell_type": "code", 
            "metadata": {}, 
            "outputs": [
                {
                    "output_type": "execute_result", 
                    "data": {
                        "text/plain": "  Budget Owner EO_hrGroupId EO_hrOrganizationCode   E_co E_costCenter  \\\n0       Kurmar          F&O                    P5  India          EV6   \n1       Kurmar          F&O                    P5  India          720   \n2       Kurmar          F&O                    P5  India          E6F   \n3       Kurmar          F&O                    P5  India          EV6   \n4       Kurmar          F&O                    P5  India          EV6   \n\n  E_employeeType E_hrManagerIndicator                     E_mail  \\\n0            Reg       Non-Management        ramyarao@in.ibm.com   \n1            Reg       Non-Management        hpooviah@in.ibm.com   \n2            Reg       Non-Management  shrutha.mohith@in.ibm.com   \n3            Reg       Non-Management        soprasil@in.ibm.com   \n4            Reg       Non-Management        uimmanue@in.ibm.com   \n\n                           E_notesId      E_uid  \\\n0        Ramya H Rao/India/IBM@IBMIN   22710744   \n1  Hemalatha Pooviah/India/IBM@IBMIN   53270744   \n2     Shrutha Mohith/India/IBM@IBMIN    3944744   \n3      Sony Prasila1/India/IBM@IBMIN   25063744   \n4    Ujwala Immanuel/India/IBM@IBMIN  375842744   \n\n                    GET Mgr Name GET Mgr Name CNUM  \\\n0             Chong, Dawn (D.M.)          57141649   \n1         SINGH, ANANT P (ANANT)         583388744   \n2     DIPANKARA, ATEESH (ATEESH)         109808744   \n3           Bourne, Kevin (K.J.)          54595649   \n4  MAJUMDAR, KINGSHUK (KINGSHUK)         247142744   \n\n  GET managers internet Email                    G_cn                 G_mail  \\\n0          dmchong@ca.ibm.com  CHATTERJEE, SHARMISTHA    sharchat@in.ibm.com   \n1         ANASINGH@in.ibm.com          SINGH, ANANT P    ANASINGH@in.ibm.com   \n2       adipankara@in.ibm.com       DIPANKARA, ATEESH  adipankara@in.ibm.com   \n3          kbourne@ca.ibm.com      MAJUMDAR, KINGSHUK    kimajumd@in.ibm.com   \n4         kimajumd@in.ibm.com      MAJUMDAR, KINGSHUK    kimajumd@in.ibm.com   \n\n                                G_notesId      G_uid  IMT country  \\\n0  Sharmishtha Chatterjee/India/IBM@IBMIN  633405744  ISA   India   \n1           Anant P Singh/India/IBM@IBMIN  583388744  ISA   India   \n2       Ateesh Dipankara1/India/IBM@IBMIN  109808744  ISA   India   \n3       Kingshuk Majumdar/India/IBM@IBMIN  247142744  ISA   India   \n4       Kingshuk Majumdar/India/IBM@IBMIN  247142744  ISA   India   \n\n            domain  \n0  P5-America S&GP  \n1       P5-AP S&GP  \n2       P5-AP S&GP  \n3  P5-America S&GP  \n4  P5-America S&GP  ", 
                        "text/html": "<div>\n<style scoped>\n    .dataframe tbody tr th:only-of-type {\n        vertical-align: middle;\n    }\n\n    .dataframe tbody tr th {\n        vertical-align: top;\n    }\n\n    .dataframe thead th {\n        text-align: right;\n    }\n</style>\n<table border=\"1\" class=\"dataframe\">\n  <thead>\n    <tr style=\"text-align: right;\">\n      <th></th>\n      <th>Budget Owner</th>\n      <th>EO_hrGroupId</th>\n      <th>EO_hrOrganizationCode</th>\n      <th>E_co</th>\n      <th>E_costCenter</th>\n      <th>E_employeeType</th>\n      <th>E_hrManagerIndicator</th>\n      <th>E_mail</th>\n      <th>E_notesId</th>\n      <th>E_uid</th>\n      <th>GET Mgr Name</th>\n      <th>GET Mgr Name CNUM</th>\n      <th>GET managers internet Email</th>\n      <th>G_cn</th>\n      <th>G_mail</th>\n      <th>G_notesId</th>\n      <th>G_uid</th>\n      <th>IMT</th>\n      <th>country</th>\n      <th>domain</th>\n    </tr>\n  </thead>\n  <tbody>\n    <tr>\n      <th>0</th>\n      <td>Kurmar</td>\n      <td>F&amp;O</td>\n      <td>P5</td>\n      <td>India</td>\n      <td>EV6</td>\n      <td>Reg</td>\n      <td>Non-Management</td>\n      <td>ramyarao@in.ibm.com</td>\n      <td>Ramya H Rao/India/IBM@IBMIN</td>\n      <td>22710744</td>\n      <td>Chong, Dawn (D.M.)</td>\n      <td>57141649</td>\n      <td>dmchong@ca.ibm.com</td>\n      <td>CHATTERJEE, SHARMISTHA</td>\n      <td>sharchat@in.ibm.com</td>\n      <td>Sharmishtha Chatterjee/India/IBM@IBMIN</td>\n      <td>633405744</td>\n      <td>ISA</td>\n      <td>India</td>\n      <td>P5-America S&amp;GP</td>\n    </tr>\n    <tr>\n      <th>1</th>\n      <td>Kurmar</td>\n      <td>F&amp;O</td>\n      <td>P5</td>\n      <td>India</td>\n      <td>720</td>\n      <td>Reg</td>\n      <td>Non-Management</td>\n      <td>hpooviah@in.ibm.com</td>\n      <td>Hemalatha Pooviah/India/IBM@IBMIN</td>\n      <td>53270744</td>\n      <td>SINGH, ANANT P (ANANT)</td>\n      <td>583388744</td>\n      <td>ANASINGH@in.ibm.com</td>\n      <td>SINGH, ANANT P</td>\n      <td>ANASINGH@in.ibm.com</td>\n      <td>Anant P Singh/India/IBM@IBMIN</td>\n      <td>583388744</td>\n      <td>ISA</td>\n      <td>India</td>\n      <td>P5-AP S&amp;GP</td>\n    </tr>\n    <tr>\n      <th>2</th>\n      <td>Kurmar</td>\n      <td>F&amp;O</td>\n      <td>P5</td>\n      <td>India</td>\n      <td>E6F</td>\n      <td>Reg</td>\n      <td>Non-Management</td>\n      <td>shrutha.mohith@in.ibm.com</td>\n      <td>Shrutha Mohith/India/IBM@IBMIN</td>\n      <td>3944744</td>\n      <td>DIPANKARA, ATEESH (ATEESH)</td>\n      <td>109808744</td>\n      <td>adipankara@in.ibm.com</td>\n      <td>DIPANKARA, ATEESH</td>\n      <td>adipankara@in.ibm.com</td>\n      <td>Ateesh Dipankara1/India/IBM@IBMIN</td>\n      <td>109808744</td>\n      <td>ISA</td>\n      <td>India</td>\n      <td>P5-AP S&amp;GP</td>\n    </tr>\n    <tr>\n      <th>3</th>\n      <td>Kurmar</td>\n      <td>F&amp;O</td>\n      <td>P5</td>\n      <td>India</td>\n      <td>EV6</td>\n      <td>Reg</td>\n      <td>Non-Management</td>\n      <td>soprasil@in.ibm.com</td>\n      <td>Sony Prasila1/India/IBM@IBMIN</td>\n      <td>25063744</td>\n      <td>Bourne, Kevin (K.J.)</td>\n      <td>54595649</td>\n      <td>kbourne@ca.ibm.com</td>\n      <td>MAJUMDAR, KINGSHUK</td>\n      <td>kimajumd@in.ibm.com</td>\n      <td>Kingshuk Majumdar/India/IBM@IBMIN</td>\n      <td>247142744</td>\n      <td>ISA</td>\n      <td>India</td>\n      <td>P5-America S&amp;GP</td>\n    </tr>\n    <tr>\n      <th>4</th>\n      <td>Kurmar</td>\n      <td>F&amp;O</td>\n      <td>P5</td>\n      <td>India</td>\n      <td>EV6</td>\n      <td>Reg</td>\n      <td>Non-Management</td>\n      <td>uimmanue@in.ibm.com</td>\n      <td>Ujwala Immanuel/India/IBM@IBMIN</td>\n      <td>375842744</td>\n      <td>MAJUMDAR, KINGSHUK (KINGSHUK)</td>\n      <td>247142744</td>\n      <td>kimajumd@in.ibm.com</td>\n      <td>MAJUMDAR, KINGSHUK</td>\n      <td>kimajumd@in.ibm.com</td>\n      <td>Kingshuk Majumdar/India/IBM@IBMIN</td>\n      <td>247142744</td>\n      <td>ISA</td>\n      <td>India</td>\n      <td>P5-America S&amp;GP</td>\n    </tr>\n  </tbody>\n</table>\n</div>"
                    }, 
                    "execution_count": 1, 
                    "metadata": {}
                }
            ], 
            "execution_count": 1
        }, 
        {
            "source": "", 
            "cell_type": "code", 
            "metadata": {}, 
            "outputs": [], 
            "execution_count": null
        }
    ], 
    "metadata": {
        "kernelspec": {
            "display_name": "Python 3.5", 
            "name": "python3", 
            "language": "python"
        }, 
        "language_info": {
            "mimetype": "text/x-python", 
            "nbconvert_exporter": "python", 
            "version": "3.5.5", 
            "name": "python", 
            "pygments_lexer": "ipython3", 
            "file_extension": ".py", 
            "codemirror_mode": {
                "version": 3, 
                "name": "ipython"
            }
        }
    }, 
    "nbformat": 4
}